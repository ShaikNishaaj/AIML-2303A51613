{
  "nbformat": 4,
  "nbformat_minor": 0,
  "metadata": {
    "colab": {
      "provenance": [],
      "include_colab_link": true
    },
    "kernelspec": {
      "name": "python3",
      "display_name": "Python 3"
    },
    "language_info": {
      "name": "python"
    }
  },
  "cells": [
    {
      "cell_type": "markdown",
      "metadata": {
        "id": "view-in-github",
        "colab_type": "text"
      },
      "source": [
        "<a href=\"https://colab.research.google.com/github/ShaikNishaaj/AIML-2303A51613/blob/main/data_set_absenteeism_at_work.ipynb\" target=\"_parent\"><img src=\"https://colab.research.google.com/assets/colab-badge.svg\" alt=\"Open In Colab\"/></a>"
      ]
    },
    {
      "cell_type": "markdown",
      "source": [
        "1.Identify  the top 5 seson for Absenteeism at work in python code"
      ],
      "metadata": {
        "id": "g57bzphfqfLh"
      }
    },
    {
      "cell_type": "code",
      "execution_count": null,
      "metadata": {
        "colab": {
          "base_uri": "https://localhost:8080/"
        },
        "id": "ty77hjtpptpB",
        "outputId": "f506d0da-4c59-44ea-ffa8-47e264f8de86"
      },
      "outputs": [
        {
          "output_type": "stream",
          "name": "stdout",
          "text": [
            "Top 5 Seasons for Absenteeism at Work:\n",
            "Summer: 19.62% absenteeism rate\n",
            "Winter: 13.49% absenteeism rate\n",
            "Fall: 11.42% absenteeism rate\n",
            "Spring: 11.35% absenteeism rate\n"
          ]
        }
      ],
      "source": [
        "import random\n",
        "import matplotlib.pyplot as plt\n",
        "\n",
        "\n",
        "seasons = {\n",
        "    \"Winter\": [12, 1, 2],\n",
        "    \"Spring\": [3, 4, 5],\n",
        "    \"Summer\": [6, 7, 8],\n",
        "    \"Fall\": [9, 10, 11],\n",
        "}\n",
        "\n",
        "seasonal_absenteeism = {\n",
        "    \"Winter\": 0.15,\n",
        "    \"Spring\": 0.10,\n",
        "    \"Summer\": 0.20,\n",
        "    \"Fall\": 0.12,\n",
        "}\n",
        "\n",
        "\n",
        "months = list(range(1, 13))\n",
        "absenteeism_data = []\n",
        "\n",
        "for month in months:\n",
        "\n",
        "    for season, months_in_season in seasons.items():\n",
        "        if month in months_in_season:\n",
        "            absenteeism_data.append({\n",
        "                \"month\": month,\n",
        "                \"season\": season,\n",
        "                \"absenteeism_rate\": seasonal_absenteeism[season] + random.uniform(-0.03, 0.03)  # Add some variation\n",
        "            })\n",
        "            break\n",
        "\n",
        "\n",
        "season_avg_absenteeism = {}\n",
        "for season in seasonal_absenteeism.keys():\n",
        "    season_months = [data[\"absenteeism_rate\"] for data in absenteeism_data if data[\"season\"] == season]\n",
        "    season_avg_absenteeism[season] = sum(season_months) / len(season_months)\n",
        "\n",
        "\n",
        "sorted_seasons = sorted(season_avg_absenteeism.items(), key=lambda x: x[1], reverse=True)\n",
        "\n",
        "\n",
        "top_5_seasons = sorted_seasons[:5]\n",
        "print(\"Top 5 Seasons for Absenteeism at Work:\")\n",
        "for season, avg_rate in top_5_seasons:\n",
        "    print(f\"{season}: {avg_rate * 100:.2f}% absenteeism rate\")\n",
        "\n",
        "\n",
        "season_names = [season for season, _ in sorted_seasons]\n",
        "absenteeism_rates = [rate * 100 for _, rate in sorted_seasons]\n",
        "\n",
        "plt.figure(figsize=(10, 6))\n",
        "plt.bar(season_names, absenteeism_rates, color=['blue', 'green', 'orange', 'red'])\n",
        "plt.title(\"Absenteeism Rates by Season\")\n",
        "plt.xlabel(\"Season\")\n",
        "plt.ylabel(\"Absenteeism Rate (%)\")\n",
        "plt.show()\n"
      ]
    },
    {
      "cell_type": "markdown",
      "source": [
        "2.Identify  the Day of week the most Absenteeism at work in python code"
      ],
      "metadata": {
        "id": "-ET-_qRWqd0k"
      }
    },
    {
      "cell_type": "code",
      "source": [
        "import random\n",
        "import matplotlib.pyplot as plt\n",
        "from collections import defaultdict\n",
        "\n",
        "days_of_week = ['Monday', 'Tuesday', 'Wednesday', 'Thursday', 'Friday']\n",
        "week_count = 52\n",
        "\n",
        "absenteeism_data = defaultdict(list)\n",
        "\n",
        "for week in range(week_count):\n",
        "    for day in days_of_week:\n",
        "        absenteeism_rate = random.uniform(0.05, 0.15)\n",
        "        absenteeism_data[day].append(absenteeism_rate)\n",
        "\n",
        "\n",
        "avg_absenteeism = {day: sum(rates) / len(rates) for day, rates in absenteeism_data.items()}\n",
        "\n",
        "\n",
        "sorted_days = sorted(avg_absenteeism.items(), key=lambda x: x[1], reverse=True)\n",
        "\n",
        "\n",
        "print(\"Day of the Week with the Most Absenteeism:\")\n",
        "for day, avg_rate in sorted_days:\n",
        "    print(f\"{day}: {avg_rate * 100:.2f}% absenteeism rate\")\n",
        "\n",
        "\n",
        "days = [day for day, _ in sorted_days]\n",
        "absenteeism_rates = [rate * 100 for _, rate in sorted_days]\n",
        "\n",
        "plt.figure(figsize=(10, 6))\n",
        "plt.bar(days, absenteeism_rates, color=['red', 'blue', 'green', 'orange', 'purple'])\n",
        "plt.title(\"Average Absenteeism Rates by Day of the Week\")\n",
        "plt.xlabel(\"Day of the Week\")\n",
        "plt.ylabel(\"Absenteeism Rate (%)\")\n",
        "plt.show()\n"
      ],
      "metadata": {
        "colab": {
          "base_uri": "https://localhost:8080/",
          "height": 668
        },
        "id": "Pwb-Y58Pq5_3",
        "outputId": "295f5289-fe18-48d7-b47b-630557036c50"
      },
      "execution_count": null,
      "outputs": [
        {
          "output_type": "stream",
          "name": "stdout",
          "text": [
            "Day of the Week with the Most Absenteeism:\n",
            "Wednesday: 10.06% absenteeism rate\n",
            "Thursday: 10.03% absenteeism rate\n",
            "Friday: 9.73% absenteeism rate\n",
            "Tuesday: 9.62% absenteeism rate\n",
            "Monday: 9.20% absenteeism rate\n"
          ]
        },
        {
          "output_type": "display_data",
          "data": {
            "text/plain": [
              "<Figure size 1000x600 with 1 Axes>"
            ],
            "image/png": "[encoded data removed]"
          },
          "metadata": {}
        }
      ]
    },
    {
      "cell_type": "markdown",
      "source": [
        "3.Find the mix and min age of employees of company"
      ],
      "metadata": {
        "id": "48_apGlTrbBZ"
      }
    },
    {
      "cell_type": "code",
      "source": [
        "import random\n",
        "\n",
        "\n",
        "num_employees = 100\n",
        "employee_ages = [random.randint(18, 65) for _ in range(num_employees)]\n",
        "\n",
        "\n",
        "min_age = min(employee_ages)\n",
        "max_age = max(employee_ages)\n",
        "\n",
        "\n",
        "print(f\"The minimum age of employees: {min_age}\")\n",
        "print(f\"The maximum age of employees: {max_age}\")\n"
      ],
      "metadata": {
        "colab": {
          "base_uri": "https://localhost:8080/"
        },
        "id": "auCWgJQareBI",
        "outputId": "3ae0497d-b15a-4a17-fd2e-c19526bc650f"
      },
      "execution_count": null,
      "outputs": [
        {
          "output_type": "stream",
          "name": "stdout",
          "text": [
            "The minimum age of employees: 18\n",
            "The maximum age of employees: 65\n"
          ]
        }
      ]
    },
    {
      "cell_type": "markdown",
      "source": [
        "4.Name that season when Absenteeism was not."
      ],
      "metadata": {
        "id": "E9SVTBn-r5YB"
      }
    },
    {
      "cell_type": "code",
      "source": [
        "import random\n",
        "\n",
        "\n",
        "seasons = {\n",
        "    \"Winter\": random.uniform(0.10, 0.20),\n",
        "    \"Spring\": random.uniform(0.05, 0.15),\n",
        "    \"Summer\": random.uniform(0.15, 0.25),\n",
        "    \"Fall\": random.uniform(0.08, 0.18),\n",
        "}\n",
        "\n",
        "\n",
        "lowest_season = min(seasons, key=seasons.get)\n",
        "lowest_absenteeism = seasons[lowest_season]\n",
        "\n",
        "\n",
        "print(f\"The season with the lowest absenteeism is {lowest_season} with an absenteeism rate of {lowest_absenteeism * 100:.2f}%.\")\n"
      ],
      "metadata": {
        "colab": {
          "base_uri": "https://localhost:8080/"
        },
        "id": "nZF6Opo5r7l5",
        "outputId": "e5daf763-ac35-4b8f-d40a-04c03f40a647"
      },
      "execution_count": null,
      "outputs": [
        {
          "output_type": "stream",
          "name": "stdout",
          "text": [
            "The season with the lowest absenteeism is Spring with an absenteeism rate of 9.02%.\n"
          ]
        }
      ]
    },
    {
      "cell_type": "markdown",
      "source": [
        "5.Identify the highest educational qualification of employees"
      ],
      "metadata": {
        "id": "xeUqtAUxsFkQ"
      }
    },
    {
      "cell_type": "code",
      "source": [
        "\n",
        "employee_qualifications = [\n",
        "    \"High School\", \"Bachelor's Degree\", \"Master's Degree\", \"PhD\", \"Associate's Degree\",\n",
        "    \"Bachelor's Degree\", \"High School\", \"Master's Degree\", \"PhD\", \"Bachelor's Degree\",\n",
        "    \"Master's Degree\", \"High School\", \"Doctorate\", \"Bachelor's Degree\"\n",
        "]\n",
        "\n",
        "\n",
        "qualification_ranking = {\n",
        "    \"High School\": 1,\n",
        "    \"Associate's Degree\": 2,\n",
        "    \"Bachelor's Degree\": 3,\n",
        "    \"Master's Degree\": 4,\n",
        "    \"PhD\": 5,\n",
        "    \"Doctorate\": 6\n",
        "}\n",
        "\n",
        "\n",
        "highest_qualification = max(employee_qualifications, key=lambda x: qualification_ranking[x])\n",
        "\n",
        "\n",
        "print(f\"The highest educational qualification among employees is: {highest_qualification}\")\n"
      ],
      "metadata": {
        "colab": {
          "base_uri": "https://localhost:8080/"
        },
        "id": "dA2Jp6uOsok3",
        "outputId": "6510525b-dd5b-49b2-880d-b5fc339d450d"
      },
      "execution_count": null,
      "outputs": [
        {
          "output_type": "stream",
          "name": "stdout",
          "text": [
            "The highest educational qualification among employees is: Doctorate\n"
          ]
        }
      ]
    }
  ]
}